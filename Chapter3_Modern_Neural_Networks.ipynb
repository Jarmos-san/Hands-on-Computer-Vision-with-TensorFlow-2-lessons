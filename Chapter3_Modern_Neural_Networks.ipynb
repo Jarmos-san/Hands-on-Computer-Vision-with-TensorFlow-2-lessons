{
  "nbformat": 4,
  "nbformat_minor": 0,
  "metadata": {
    "colab": {
      "name": "Chapter3_Modern_Neural_Networks.ipynb",
      "provenance": []
    },
    "kernelspec": {
      "name": "python3",
      "display_name": "Python 3"
    },
    "accelerator": "GPU"
  },
  "cells": [
    {
      "cell_type": "markdown",
      "metadata": {
        "id": "Ik99G4eFyUkq",
        "colab_type": "text"
      },
      "source": [
        "# **Basic Operations of Convolutional Neural Networks (CNNs/ConvNets)**:\n",
        "\n",
        "Although quite similar to each other, ConvNets are different architecturally. ConvNets specifically assume that they're receiving an image as an input with 3D volume of neurons. In other words, the input layer accepts a vector of `Width`, `Height` & `Depth` units of the image.\n",
        "\n",
        "The ConvNet contains a sequence of layers & each layer transforms a volume of activations through a differentiable function. Generally, a model architecture would've the following layers sequencially laid beside one-another:\n",
        "\n",
        "1. `INPUT[W x H x D]` layer which holds the raw pixels values of an image with image _width of `W`_, _height of `H`_ & _3 colour channels of `R,G,B`_.\n",
        "\n",
        "2. The `CONV` layer computes the output of the neurons that are connected to certain local regions of the input which results in a volume of `[W x H x F]` where `F` is the number of filters.\n",
        "\n",
        "3. The `RELU` layer while leaving the size of the volume unchanged activates certain areas of the input, elementwise.\n",
        "\n",
        "4. The `POOL` layer performs a downsampling of the input.\n",
        "\n",
        "5. The `FC` layer computes the class layers with the volume size represented as `[W x H x C]` where C represents the classes.\n",
        "\n",
        "### **The Convolutional Layer**\n",
        "\n",
        " - The core building block of the Neural Net doing most of the computational heavy lifting.\n",
        "\n",
        " - The learnable parameters of the Convolutional layer consists of a set of spatial filters extending through the whole depth of the input image.\n",
        "\n",
        " - The process of convolution involves performing a dot product of the entries from the filter & the input image, creating a 2-D activational map at every spatial position of the filter. \n",
        "\n",
        " - The network learns those filters that activate based on some kind of visual feature. Hence, accordingly the entire set of filters in each `CONV` layer producing a 2-D output stacked up on each other.\n",
        "\n",
        " - Summary of a `CONV` layer:\n",
        "    \n",
        "    1. Accepts a volume of size `W x H x D`.\n",
        "\n",
        "    2. Requires 4 hyperparameters.\n",
        "\n",
        "        i. Number of filters, `K`.\n",
        "\n",
        "        ii. Their spatial extent `F`.\n",
        "\n",
        "        iii. The Stride, `S`.\n",
        "\n",
        "        iv. The Amount of Zero-Padding, `P`.\n",
        "\n",
        "    3. Produces a volume of size `W2 × H2 × D2` where:\n",
        "\n",
        "        - `W2 = (W1−F+2P)/S+1`\n",
        "\n",
        "        - `H2 = (H1−F+2P)/S+1` (i.e. width and height are computed equally by symmetry)\n",
        "\n",
        "        - `D2 = K`\n",
        "\n",
        "    4. With parameter sharing, it introduces `F⋅F⋅D1` weights per filter, for a total of `(F⋅F⋅D1)⋅K` weights and `K` biases.\n",
        "\n",
        "    5. In the output volume, the _d_-th depth slice (of size `W2×H2`) is the result of performing a valid convolution of the d-th filter over the input volume with a stride of `S`, and then offset by _d_-th bias.\n",
        "\n",
        "### **The Pooling Layer**:\n",
        "\n",
        "A pooling layer is periodically inserted to function as a spatial size reducer of the representation so that the number of parameters can be brought down significantly. This helps in preventing overfitting as well as lesser strain on the computation process.\n",
        "\n",
        "Generally, the _Pooling layer_ does:\n",
        "\n",
        "1. Accepts a volume of size `W × H × D`.\n",
        "\n",
        "2. Requires two hyperparameters:\n",
        "\n",
        "    - Their spatial extent, `F`.\n",
        "    \n",
        "    - The stride, `S`.\n",
        "\n",
        "3. Produces a volume of size `W2 × H2 × D2`, where:\n",
        "\n",
        "    - `W2 = (W−F)/S+1`\n",
        "\n",
        "    - `H2 = (H−F)/S+1`\n",
        "\n",
        "    - `D2 = D`\n",
        "\n",
        "4. Introduces zero parameters since it computes a fixed function of the input\n",
        "\n",
        "5. For Pooling layers, it is not common to pad the input using zero-padding.\n",
        "\n",
        "### **Some More Information On Layers**:\n",
        "\n",
        "- _Normalization layers_\n",
        "\n",
        "- _Fully-Connected (FC) layers_\n",
        "\n",
        "- _Converted FC layers to Conv layers_\n",
        "\n",
        "- General pattern of stacked layers look like:\n",
        "\n",
        "    ```\n",
        "    INPUT -> [[CONV -> RELU]*N -> POOL?]*M -> [FC -> RELU]*K -> FC\n",
        "    ```\n",
        "    \n",
        "    where, the `*` indicates repetition, and the `POOL?` indicates an optional pooling layer. Moreover, `N >= 0` (and usually `N <= 3`), `M >= 0`, `K >= 0` (and usually `K < 3`).\n",
        "\n",
        "- Layer Sizing pattern\n",
        "\n",
        "    1. The `INPUT` layer should be divisible by 2 many times over & some common numbers iclude - `32`, `64`, `96`, `224`, `384`, `512`.\n",
        "\n",
        "    2. The `CONV` layers should be zero-padded properly such that the original spatial dimemsions are intact. Also small filters like `3x3` or `5x5` should be used with stride = 1.\n",
        "\n",
        "    3. The `POOL` layers are responsible for downsampling the spatial dimensions by using a maxpooling of 2x2 receptive fields.\n",
        "\n",
        "**_Resources_**:\n",
        "\n",
        "1. Perhaps the most comprehensive & informative piece is the official [CS231n Convolutional Neural Network for Visual Recognition](https://cs231n.github.io/convolutional-networks/#overview) course website from Stanford. Highly recommend & almost answers everything about the topic.\n",
        "\n",
        "2. [A Gentle Introduction to Pooling Layers for Convolutional Neural Networks](https://machinelearningmastery.com/pooling-layers-for-convolutional-neural-networks/)\n",
        "\n",
        "3. [Intuitively Understanding Convolutions for Deep Learning](https://towardsdatascience.com/intuitively-understanding-convolutions-for-deep-learning-1f6f42faee1) visually appealing & brief enough to grasp the concepts quickly.\n",
        "\n",
        "4. Analogical example of the article - [Understanding Convolutions](https://colah.github.io/posts/2014-07-Understanding-Convolutions/) has good visual descriptions alongwith examples."
      ]
    },
    {
      "cell_type": "markdown",
      "metadata": {
        "id": "WTjmCuyBh3yr",
        "colab_type": "text"
      },
      "source": [
        "# Building & Training A ConvNet/CNN in TensorFlow & Keras"
      ]
    },
    {
      "cell_type": "markdown",
      "metadata": {
        "id": "WMzjpNwZa52Y",
        "colab_type": "text"
      },
      "source": [
        "### Preparing the Data"
      ]
    },
    {
      "cell_type": "code",
      "metadata": {
        "id": "VO0D4sYOiRqS",
        "colab_type": "code",
        "colab": {}
      },
      "source": [
        "import tensorflow as tf"
      ],
      "execution_count": 0,
      "outputs": []
    },
    {
      "cell_type": "code",
      "metadata": {
        "id": "T9leMYWcjJVA",
        "colab_type": "code",
        "colab": {}
      },
      "source": [
        "num_classes = 10\n",
        "img_rows, img_cols, img_ch = 28, 28, 1\n",
        "input_shape = (img_rows, img_cols, img_ch)"
      ],
      "execution_count": 0,
      "outputs": []
    },
    {
      "cell_type": "code",
      "metadata": {
        "id": "P8nwX3F0jbqS",
        "colab_type": "code",
        "colab": {
          "base_uri": "https://localhost:8080/",
          "height": 54
        },
        "outputId": "44129190-3c46-4dce-e918-a67e370b7bec"
      },
      "source": [
        "(x_train, y_train), (x_test, y_test) = tf.keras.datasets.mnist.load_data()\n",
        "x_train, x_test = x_train/255.0, x_test/255.0\n",
        "\n",
        "\n",
        "x_train = x_train.reshape(x_train.shape[0], *input_shape)\n",
        "x_test = x_test.reshape(x_test.shape[0], *input_shape)"
      ],
      "execution_count": 5,
      "outputs": [
        {
          "output_type": "stream",
          "text": [
            "Downloading data from https://storage.googleapis.com/tensorflow/tf-keras-datasets/mnist.npz\n",
            "11493376/11490434 [==============================] - 0s 0us/step\n"
          ],
          "name": "stdout"
        }
      ]
    },
    {
      "cell_type": "markdown",
      "metadata": {
        "id": "i6Ari-2ja_jg",
        "colab_type": "text"
      },
      "source": [
        "### Simple Convolutional layer to be Used inside a ConvNet"
      ]
    },
    {
      "cell_type": "code",
      "metadata": {
        "id": "bwuQSRbXj4dN",
        "colab_type": "code",
        "colab": {}
      },
      "source": [
        "class SimpleConvolutionLayer(tf.keras.layers.Layer):\n",
        "\n",
        "    def __init__(self, num_kernels=32, kernel_size=(3, 3), strides=(1, 1), use_bias=True):\n",
        "        \"\"\"\n",
        "        Initialize the layer.\n",
        "        :param num_kernels:     Number of kernels for the convolution\n",
        "        :param kernel_size:     Kernel size (H x W)\n",
        "        :param strides:         Vertical and horizontal stride as list\n",
        "        :param use_bias:        Flag to add a bias after covolution / before activation\n",
        "        \"\"\"\n",
        "        # First, we have to call the `Layer` super __init__(), as it initializes hidden mechanisms:\n",
        "        super().__init__()  \n",
        "        # Then we assign the parameters:\n",
        "        self.num_kernels = num_kernels\n",
        "        self.kernel_size = kernel_size\n",
        "        self.strides = strides\n",
        "        self.use_bias = use_bias\n",
        "\n",
        "    def build(self, input_shape):\n",
        "        \"\"\"\n",
        "        Build the layer, initializing its parameters according to the input shape.\n",
        "        This function will be internally called the first time the layer is used, though\n",
        "        it can also be manually called.\n",
        "        :param input_shape:     Input shape the layer will receive (e.g. B x H x W x C)\n",
        "        \"\"\"\n",
        "        # We are provided with the input shape here, so we know the number of input channels:\n",
        "        num_input_channels = input_shape[-1]  # assuming shape format BHWC\n",
        "\n",
        "        # Now we know how the shape of the tensor representing the kernels should be:\n",
        "        kernels_shape = (*self.kernel_size, num_input_channels, self.num_kernels)\n",
        "\n",
        "        # For this example, we initialize the filters with values picked from a Glorot distribution:\n",
        "        glorot_uni_initializer = tf.initializers.GlorotUniform()\n",
        "        self.kernels = self.add_weight(name='kernels',\n",
        "                                       shape=kernels_shape,\n",
        "                                       initializer=glorot_uni_initializer,\n",
        "                                       trainable=True)  # and we make the variable trainable.\n",
        "\n",
        "        if self.use_bias:  # If bias should be added, we initialize its variable too:\n",
        "            self.bias = self.add_weight(name='bias',\n",
        "                                        shape=(self.num_kernels,),\n",
        "                                        initializer='random_normal',  # e.g., using normal distribution.\n",
        "                                        trainable=True)\n",
        "\n",
        "    def call(self, inputs):\n",
        "        \"\"\"\n",
        "        Call the layer and perform its operations on the input tensors\n",
        "        :param inputs:  Input tensor\n",
        "        :return:        Output tensor\n",
        "        \"\"\"\n",
        "        # We perform the convolution:\n",
        "        z = tf.nn.conv2d(inputs, self.kernels, strides=[1, *self.strides, 1], padding='VALID')\n",
        "\n",
        "        if self.use_bias:  # we add the bias if requested:\n",
        "            z = z + self.bias\n",
        "        # Finally, we apply the activation function (e.g. ReLU):\n",
        "        return tf.nn.relu(z)\n",
        "\n",
        "    def get_config(self):\n",
        "        \"\"\"\n",
        "        Helper function to define the layer and its parameters.\n",
        "        :return:        Dictionary containing the layer's configuration\n",
        "        \"\"\"\n",
        "        return {'num_kernels': self.num_kernels,\n",
        "                'kernel_size': self.kernel_size,\n",
        "                'strides': self.strides,\n",
        "                'use_bias': self.use_bias}"
      ],
      "execution_count": 0,
      "outputs": []
    },
    {
      "cell_type": "markdown",
      "metadata": {
        "id": "taaiZLcIbaMu",
        "colab_type": "text"
      },
      "source": [
        "### Recommended Way of Building a ConvNet"
      ]
    },
    {
      "cell_type": "code",
      "metadata": {
        "id": "7Tb2qOCgkC0E",
        "colab_type": "code",
        "colab": {}
      },
      "source": [
        "from tensorflow.keras import Model\n",
        "from tensorflow.keras.layers import Conv2D, MaxPooling2D, Flatten, Dense"
      ],
      "execution_count": 0,
      "outputs": []
    },
    {
      "cell_type": "code",
      "metadata": {
        "id": "uCr0_QMokGKG",
        "colab_type": "code",
        "colab": {}
      },
      "source": [
        "class LeNet5(Model):\n",
        "    \n",
        "    def __init__(self, num_classes):\n",
        "        \"\"\"\n",
        "        Initialize the model.\n",
        "        :param num_classes:     Number of classes to predict from\n",
        "        \"\"\"\n",
        "        super(LeNet5, self).__init__()\n",
        "        # We instantiate the various layers composing LeNet-5:\n",
        "        # self.conv1 = SimpleConvolutionLayer(6, kernel_size=(5, 5))\n",
        "        # self.conv2 = SimpleConvolutionLayer(16, kernel_size=(5, 5))\n",
        "        # ... or using the existing and (recommended) Conv2D class:\n",
        "        self.conv1 = Conv2D(6, kernel_size=(5, 5), padding='same', activation='relu')\n",
        "        self.conv2 = Conv2D(16, kernel_size=(5, 5), activation='relu')\n",
        "        self.max_pool = MaxPooling2D(pool_size=(2, 2))\n",
        "        self.flatten = Flatten()\n",
        "        self.dense1 = Dense(120, activation='relu')\n",
        "        self.dense2 = Dense(84, activation='relu')\n",
        "        self.dense3 = Dense(num_classes, activation='softmax')\n",
        "        \n",
        "    def call(self, inputs):\n",
        "        \"\"\"\n",
        "        Call the layers and perform their operations on the input tensors\n",
        "        :param inputs:  Input tensor\n",
        "        :return:        Output tensor\n",
        "        \"\"\"\n",
        "        x = self.max_pool(self.conv1(inputs))        # 1st block\n",
        "        x = self.max_pool(self.conv2(x))             # 2nd block\n",
        "        x = self.flatten(x)\n",
        "        x = self.dense3(self.dense2(self.dense1(x))) # dense layers\n",
        "        return x"
      ],
      "execution_count": 0,
      "outputs": []
    },
    {
      "cell_type": "markdown",
      "metadata": {
        "id": "EpGTeoIFblmT",
        "colab_type": "text"
      },
      "source": [
        "### Training & Classifying MNIST Dataset."
      ]
    },
    {
      "cell_type": "code",
      "metadata": {
        "id": "pjmr526_kIza",
        "colab_type": "code",
        "colab": {}
      },
      "source": [
        "model = LeNet5(num_classes)\n",
        "model.compile(optimizer='sgd', loss='sparse_categorical_crossentropy', metrics=['accuracy'])"
      ],
      "execution_count": 0,
      "outputs": []
    },
    {
      "cell_type": "code",
      "metadata": {
        "id": "HOYkX-c0kLap",
        "colab_type": "code",
        "colab": {
          "base_uri": "https://localhost:8080/",
          "height": 429
        },
        "outputId": "e605f6cc-051b-439e-ec34-de9af6835864"
      },
      "source": [
        "# We can call `model.summary()` only if the model was built before. \n",
        "# It is normally done automatically at the first use of the network,\n",
        "# inferring the input shapes from the samples the network is given.\n",
        "# For instance, the command below would build the network (then use it for prediction):\n",
        "_ = model.predict(x_test[:10])\n",
        "\n",
        "# But we can build the model manually otherwise, providing the batched\n",
        "# input shape ourselves:\n",
        "batched_input_shape = tf.TensorShape((None, *input_shape))\n",
        "model.build(input_shape=batched_input_shape)\n",
        "\n",
        "# Method to visualize the architecture of the network:\n",
        "model.summary()"
      ],
      "execution_count": 8,
      "outputs": [
        {
          "output_type": "stream",
          "text": [
            "Model: \"le_net5\"\n",
            "_________________________________________________________________\n",
            "Layer (type)                 Output Shape              Param #   \n",
            "=================================================================\n",
            "conv2d (Conv2D)              multiple                  156       \n",
            "_________________________________________________________________\n",
            "conv2d_1 (Conv2D)            multiple                  2416      \n",
            "_________________________________________________________________\n",
            "max_pooling2d (MaxPooling2D) multiple                  0         \n",
            "_________________________________________________________________\n",
            "flatten (Flatten)            multiple                  0         \n",
            "_________________________________________________________________\n",
            "dense (Dense)                multiple                  48120     \n",
            "_________________________________________________________________\n",
            "dense_1 (Dense)              multiple                  10164     \n",
            "_________________________________________________________________\n",
            "dense_2 (Dense)              multiple                  850       \n",
            "=================================================================\n",
            "Total params: 61,706\n",
            "Trainable params: 61,706\n",
            "Non-trainable params: 0\n",
            "_________________________________________________________________\n"
          ],
          "name": "stdout"
        }
      ]
    },
    {
      "cell_type": "code",
      "metadata": {
        "id": "a2vXNp8ykON7",
        "colab_type": "code",
        "colab": {}
      },
      "source": [
        "callbacks = [\n",
        "    # Callback to interrupt the training if the validation loss (`val_loss`) stops improving for over 3 epochs:\n",
        "    tf.keras.callbacks.EarlyStopping(patience=5, monitor='val_loss'),\n",
        "    # Callback to log the graph, losses and metrics into TensorBoard (saving log files in `./logs` directory):\n",
        "    tf.keras.callbacks.TensorBoard(log_dir='./logs', histogram_freq=1, write_graph=True)]"
      ],
      "execution_count": 0,
      "outputs": []
    },
    {
      "cell_type": "code",
      "metadata": {
        "id": "fOz2fIkEkRjq",
        "colab_type": "code",
        "colab": {
          "base_uri": "https://localhost:8080/",
          "height": 824
        },
        "outputId": "83861179-c239-4274-fa20-d7217e03edeb"
      },
      "source": [
        "history = model.fit(x_train, y_train,\n",
        "                    batch_size=32, epochs=80, validation_data=(x_test, y_test), \n",
        "                    verbose=1,  # change to `verbose=1` to get a progress bar\n",
        "                                # (we opt for `verbose=2` here to reduce the log size)\n",
        "                    callbacks=callbacks)"
      ],
      "execution_count": 11,
      "outputs": [
        {
          "output_type": "stream",
          "text": [
            "Epoch 1/80\n",
            "1875/1875 [==============================] - 42s 22ms/step - loss: 0.1304 - accuracy: 0.9610 - val_loss: 0.0850 - val_accuracy: 0.9746\n",
            "Epoch 2/80\n",
            "1875/1875 [==============================] - 41s 22ms/step - loss: 0.0888 - accuracy: 0.9721 - val_loss: 0.0716 - val_accuracy: 0.9776\n",
            "Epoch 3/80\n",
            "1875/1875 [==============================] - 41s 22ms/step - loss: 0.0703 - accuracy: 0.9783 - val_loss: 0.0581 - val_accuracy: 0.9810\n",
            "Epoch 4/80\n",
            "1875/1875 [==============================] - 41s 22ms/step - loss: 0.0600 - accuracy: 0.9813 - val_loss: 0.0494 - val_accuracy: 0.9831\n",
            "Epoch 5/80\n",
            "1875/1875 [==============================] - 42s 22ms/step - loss: 0.0527 - accuracy: 0.9835 - val_loss: 0.0480 - val_accuracy: 0.9840\n",
            "Epoch 6/80\n",
            "1875/1875 [==============================] - 41s 22ms/step - loss: 0.0470 - accuracy: 0.9850 - val_loss: 0.0420 - val_accuracy: 0.9857\n",
            "Epoch 7/80\n",
            "1875/1875 [==============================] - 41s 22ms/step - loss: 0.0422 - accuracy: 0.9869 - val_loss: 0.0481 - val_accuracy: 0.9834\n",
            "Epoch 8/80\n",
            "1875/1875 [==============================] - 41s 22ms/step - loss: 0.0386 - accuracy: 0.9879 - val_loss: 0.0416 - val_accuracy: 0.9859\n",
            "Epoch 9/80\n",
            "1875/1875 [==============================] - 41s 22ms/step - loss: 0.0343 - accuracy: 0.9893 - val_loss: 0.0452 - val_accuracy: 0.9854\n",
            "Epoch 10/80\n",
            "1875/1875 [==============================] - 41s 22ms/step - loss: 0.0320 - accuracy: 0.9902 - val_loss: 0.0377 - val_accuracy: 0.9868\n",
            "Epoch 11/80\n",
            "1875/1875 [==============================] - 41s 22ms/step - loss: 0.0301 - accuracy: 0.9904 - val_loss: 0.0356 - val_accuracy: 0.9884\n",
            "Epoch 12/80\n",
            "1875/1875 [==============================] - 42s 22ms/step - loss: 0.0280 - accuracy: 0.9915 - val_loss: 0.0361 - val_accuracy: 0.9874\n",
            "Epoch 13/80\n",
            "1875/1875 [==============================] - 41s 22ms/step - loss: 0.0252 - accuracy: 0.9922 - val_loss: 0.0355 - val_accuracy: 0.9881\n",
            "Epoch 14/80\n",
            "1875/1875 [==============================] - 42s 22ms/step - loss: 0.0230 - accuracy: 0.9930 - val_loss: 0.0340 - val_accuracy: 0.9885\n",
            "Epoch 15/80\n",
            "1875/1875 [==============================] - 44s 24ms/step - loss: 0.0219 - accuracy: 0.9932 - val_loss: 0.0387 - val_accuracy: 0.9869\n",
            "Epoch 16/80\n",
            "1875/1875 [==============================] - 44s 24ms/step - loss: 0.0203 - accuracy: 0.9937 - val_loss: 0.0332 - val_accuracy: 0.9881\n",
            "Epoch 17/80\n",
            "1875/1875 [==============================] - 44s 24ms/step - loss: 0.0194 - accuracy: 0.9941 - val_loss: 0.0383 - val_accuracy: 0.9878\n",
            "Epoch 18/80\n",
            "1875/1875 [==============================] - 44s 24ms/step - loss: 0.0177 - accuracy: 0.9942 - val_loss: 0.0365 - val_accuracy: 0.9876\n",
            "Epoch 19/80\n",
            "1875/1875 [==============================] - 44s 23ms/step - loss: 0.0160 - accuracy: 0.9951 - val_loss: 0.0429 - val_accuracy: 0.9863\n",
            "Epoch 20/80\n",
            "1875/1875 [==============================] - 43s 23ms/step - loss: 0.0153 - accuracy: 0.9951 - val_loss: 0.0367 - val_accuracy: 0.9889\n",
            "Epoch 21/80\n",
            "1875/1875 [==============================] - 42s 23ms/step - loss: 0.0136 - accuracy: 0.9961 - val_loss: 0.0414 - val_accuracy: 0.9876\n"
          ],
          "name": "stdout"
        }
      ]
    },
    {
      "cell_type": "markdown",
      "metadata": {
        "id": "Eu58a1hcdDVY",
        "colab_type": "text"
      },
      "source": [
        "# Experimenting with Advanced Optimizers\n",
        "\n",
        "**Resources**:\n",
        "\n",
        "- [cs231n - Optimization: Stochastic Gradient Descent](https://cs231n.github.io/optimization-1/)\n",
        "\n",
        "- [An overview of gradient descent optimization algorithms](https://ruder.io/optimizing-gradient-descent/)"
      ]
    },
    {
      "cell_type": "code",
      "metadata": {
        "id": "kzjq2SogdQ2J",
        "colab_type": "code",
        "colab": {}
      },
      "source": [
        "%matplotlib inline\n",
        "\n",
        "import numpy as np\n",
        "import matplotlib.pyplot as plt\n",
        "\n",
        "from tensorflow.keras import optimizers\n",
        "from tensorflow.keras.models import Sequential\n",
        "from tensorflow.keras.layers import Dense, Flatten, Conv2D, MaxPooling2D"
      ],
      "execution_count": 0,
      "outputs": []
    },
    {
      "cell_type": "code",
      "metadata": {
        "id": "vyygo3okfnZ4",
        "colab_type": "code",
        "colab": {}
      },
      "source": [
        "def lenet(name='lenet'):\n",
        "    model = Sequential(name=name)\n",
        "    # 1st block:\n",
        "    model.add(Conv2D(6, kernel_size=(5, 5), padding='same', activation='relu', input_shape=input_shape))\n",
        "    model.add(MaxPooling2D(pool_size=(2, 2)))\n",
        "    # 2nd block:\n",
        "    model.add(Conv2D(16, kernel_size=(5, 5), activation='relu'))\n",
        "    model.add(MaxPooling2D(pool_size=(2, 2)))\n",
        "    # Dense layers:\n",
        "    model.add(Flatten())\n",
        "    model.add(Dense(120, activation='relu'))\n",
        "    model.add(Dense(84, activation='relu'))\n",
        "    model.add(Dense(num_classes, activation='softmax'))\n",
        "    return model"
      ],
      "execution_count": 0,
      "outputs": []
    },
    {
      "cell_type": "code",
      "metadata": {
        "id": "cNtNiWt1gXvV",
        "colab_type": "code",
        "colab": {}
      },
      "source": [
        "# Setting some variables to format the logs:\n",
        "log_begin_red, log_begin_blue, log_begin_green = '\\033[91m', '\\n\\033[94m', '\\033[92m'\n",
        "log_begin_bold, log_begin_underline = '\\033[1m', '\\033[4m'\n",
        "log_end_format = '\\033[0m'"
      ],
      "execution_count": 0,
      "outputs": []
    },
    {
      "cell_type": "code",
      "metadata": {
        "id": "pilouJzKglXu",
        "colab_type": "code",
        "colab": {}
      },
      "source": [
        "optimizers_examples = {\n",
        "    'sgd': optimizers.SGD(),\n",
        "    'momentum': optimizers.SGD(momentum=0.9),\n",
        "    'nag': optimizers.SGD(momentum=0.9, nesterov=True),\n",
        "    'adagrad': optimizers.Adagrad(),\n",
        "    'adadelta': optimizers.Adadelta(),\n",
        "    'rmsprop': optimizers.RMSprop(),\n",
        "    'adam': optimizers.Adam()\n",
        "}"
      ],
      "execution_count": 0,
      "outputs": []
    },
    {
      "cell_type": "code",
      "metadata": {
        "id": "kClUTXPjgqtf",
        "colab_type": "code",
        "colab": {
          "base_uri": "https://localhost:8080/",
          "height": 317
        },
        "outputId": "5d13f53d-487e-4bc2-de2d-ef934f5cd886"
      },
      "source": [
        "history_per_optimizer = dict()\n",
        "\n",
        "print(f\"Experiment: {log_begin_red}start{log_end_format} (training logs = off)\")\n",
        "for optimizer_name in optimizers_examples:\n",
        "    # Resetting the seeds (for random number generation), \n",
        "    # to reduce the impact of randomness on the comparison:\n",
        "    tf.random.set_seed(42)\n",
        "    np.random.seed(42)\n",
        "    # Creating the model:\n",
        "    model = lenet(f\"lenet_{optimizer_name}\")\n",
        "    optimizer = optimizers_examples[optimizer_name]\n",
        "    model.compile(optimizer=optimizer, loss='sparse_categorical_crossentropy', \n",
        "                  metrics=['accuracy'])\n",
        "    # Launching the training (we set `verbose=0`, so the training won't generate any logs):\n",
        "    print(f\"\\t> Training with {optimizer_name}: {log_begin_red}start{log_end_format}\")\n",
        "    history = model.fit(x_train, y_train,\n",
        "                        batch_size=32, epochs=20, validation_data=(x_test, y_test),\n",
        "                        verbose=0)\n",
        "    history_per_optimizer[optimizer_name] = history\n",
        "    print(f'\\t> Training with {optimizer_name}: {log_begin_green}done{log_end_format}.')\n",
        "print(f\"Experiment: {log_begin_green}done{log_end_format}\")"
      ],
      "execution_count": 10,
      "outputs": [
        {
          "output_type": "stream",
          "text": [
            "Experiment: \u001b[91mstart\u001b[0m (training logs = off)\n",
            "\t> Training with sgd: \u001b[91mstart\u001b[0m\n",
            "\t> Training with sgd: \u001b[92mdone\u001b[0m.\n",
            "\t> Training with momentum: \u001b[91mstart\u001b[0m\n",
            "\t> Training with momentum: \u001b[92mdone\u001b[0m.\n",
            "\t> Training with nag: \u001b[91mstart\u001b[0m\n",
            "\t> Training with nag: \u001b[92mdone\u001b[0m.\n",
            "\t> Training with adagrad: \u001b[91mstart\u001b[0m\n",
            "\t> Training with adagrad: \u001b[92mdone\u001b[0m.\n",
            "\t> Training with adadelta: \u001b[91mstart\u001b[0m\n",
            "\t> Training with adadelta: \u001b[92mdone\u001b[0m.\n",
            "\t> Training with rmsprop: \u001b[91mstart\u001b[0m\n",
            "\t> Training with rmsprop: \u001b[92mdone\u001b[0m.\n",
            "\t> Training with adam: \u001b[91mstart\u001b[0m\n",
            "\t> Training with adam: \u001b[92mdone\u001b[0m.\n",
            "Experiment: \u001b[92mdone\u001b[0m\n"
          ],
          "name": "stdout"
        }
      ]
    },
    {
      "cell_type": "code",
      "metadata": {
        "id": "bRgFdaXUhsju",
        "colab_type": "code",
        "colab": {
          "base_uri": "https://localhost:8080/",
          "height": 607
        },
        "outputId": "fa535bb9-1a49-4789-a46c-c9ddc0d3a763"
      },
      "source": [
        "fig, ax = plt.subplots(2, 2, figsize=(10,10), sharex='col')\n",
        "ax[0, 0].set_title(\"loss\")\n",
        "ax[0, 1].set_title(\"val-loss\")\n",
        "ax[1, 0].set_title(\"accuracy\")\n",
        "ax[1, 1].set_title(\"val-accuracy\")\n",
        "\n",
        "lines, labels = [], []\n",
        "for optimizer_name in history_per_optimizer:\n",
        "    history = history_per_optimizer[optimizer_name]\n",
        "    ax[0, 0].plot(history.history['loss'])\n",
        "    ax[0, 1].plot(history.history['val_loss'])\n",
        "    ax[1, 0].plot(history.history['accuracy'])\n",
        "    line = ax[1, 1].plot(history.history['val_accuracy'])\n",
        "    lines.append(line[0])\n",
        "    labels.append(optimizer_name)\n",
        "\n",
        "fig.legend(lines,labels, loc='center right', borderaxespad=0.1)\n",
        "plt.subplots_adjust(right=0.85)"
      ],
      "execution_count": 11,
      "outputs": [
        {
          "output_type": "display_data",
          "data": {
            "image/png": "[encoded data removed]",
            "text/plain": [
              "<Figure size 720x720 with 4 Axes>"
            ]
          },
          "metadata": {
            "tags": [],
            "needs_background": "light"
          }
        }
      ]
    },
    {
      "cell_type": "markdown",
      "metadata": {
        "id": "EMQnA_GpiWEp",
        "colab_type": "text"
      },
      "source": [
        "# Applying Regularization Methods to CNN"
      ]
    },
    {
      "cell_type": "code",
      "metadata": {
        "id": "LrHdT5pAm13L",
        "colab_type": "code",
        "colab": {}
      },
      "source": [
        "import tensorflow as tf\n",
        "import numpy as np\n",
        "import matplotlib\n",
        "from matplotlib import pyplot as plt\n",
        "\n",
        "import os\n",
        "# Choosing which GPU this notebook can access\n",
        "# (useful when running multiple experiments in parallel, on different GPUs):\n",
        "os.environ[\"CUDA_VISIBLE_DEVICES\"]= \"1\" \n",
        "\n",
        "# Defining the seed for some random operations:\n",
        "random_seed = 42\n",
        "\n",
        "# Setting some variables to format the logs:\n",
        "log_begin_red, log_begin_blue, log_begin_green = '\\033[91m', '\\033[94m', '\\033[92m'\n",
        "log_begin_bold, log_begin_underline = '\\033[1m', '\\033[4m'\n",
        "log_end_format = '\\033[0m'"
      ],
      "execution_count": 0,
      "outputs": []
    },
    {
      "cell_type": "code",
      "metadata": {
        "id": "m7SslMX7m4vv",
        "colab_type": "code",
        "colab": {}
      },
      "source": [
        "num_classes = 10\n",
        "img_rows, img_cols, img_ch = 28, 28, 1\n",
        "input_shape = (img_rows, img_cols, img_ch)\n",
        "\n",
        "(x_train, y_train), (x_test, y_test) = tf.keras.datasets.mnist.load_data()\n",
        "x_train, x_test = x_train / 255.0, x_test / 255.0\n",
        "\n",
        "x_train = x_train.reshape(x_train.shape[0], *input_shape)\n",
        "x_test = x_test.reshape(x_test.shape[0], *input_shape)"
      ],
      "execution_count": 0,
      "outputs": []
    },
    {
      "cell_type": "code",
      "metadata": {
        "id": "fOSjBTSZm8GF",
        "colab_type": "code",
        "colab": {
          "base_uri": "https://localhost:8080/",
          "height": 54
        },
        "outputId": "37e2819c-2391-4d04-eb3d-f3a14d99de89"
      },
      "source": [
        "# ... 200 training samples instead of 60,000...\n",
        "x_train, y_train = x_train[:200], y_train[:200]\n",
        "\n",
        "print(f'Training data: {x_train.shape}')\n",
        "print(f'Testing data: {x_test.shape}')"
      ],
      "execution_count": 15,
      "outputs": [
        {
          "output_type": "stream",
          "text": [
            "Training data: (200, 28, 28, 1)\n",
            "Testing data: (10000, 28, 28, 1)\n"
          ],
          "name": "stdout"
        }
      ]
    },
    {
      "cell_type": "code",
      "metadata": {
        "id": "HGhMxbNOnAQS",
        "colab_type": "code",
        "colab": {}
      },
      "source": [
        "from tensorflow.keras.models import Model, Sequential\n",
        "from tensorflow.keras.layers import (Input, Activation, Dense, Flatten, Conv2D, \n",
        "                                     MaxPooling2D, Dropout, BatchNormalization)\n",
        "\n",
        "epochs      = 200\n",
        "batch_size  = 32"
      ],
      "execution_count": 0,
      "outputs": []
    },
    {
      "cell_type": "code",
      "metadata": {
        "id": "z1YiEek5nU26",
        "colab_type": "code",
        "colab": {}
      },
      "source": [
        "@tf.function\n",
        "def conv_layer(x, kernels, bias, s):\n",
        "    z = tf.nn.conv2d(x, kernels, strides=[1,s,s,1], padding='VALID')\n",
        "    # Finally, applying the bias and activation function (e.g. ReLU):\n",
        "    return tf.nn.relu(z + bias)\n",
        "\n",
        "\n",
        "class SimpleConvolutionLayer(tf.keras.layers.Layer):\n",
        "    def __init__(self, num_kernels=32, kernel_size=(3, 3), stride=1):\n",
        "        \"\"\" Initialize the layer.\n",
        "        :param num_kernels: Number of kernels for the convolution\n",
        "        :param kernel_size: Kernel size (H x W)\n",
        "        :param stride: Vertical/horizontal stride\n",
        "        \"\"\"\n",
        "        super().__init__() \n",
        "        self.num_kernels = num_kernels\n",
        "        self.kernel_size = kernel_size\n",
        "        self.stride = stride\n",
        "\n",
        "    def build(self, input_shape):\n",
        "        \"\"\" Build the layer, initializing its parameters.\n",
        "        This will be internally called the 1st time the layer is used.\n",
        "        :param input_shape: Input shape for the layer (e.g. BxHxWxC)\n",
        "        \"\"\"\n",
        "        num_input_ch = input_shape[-1] # assuming shape format BHWC\n",
        "        # Now we know the shape of the kernel tensor we need:\n",
        "        kernels_shape = (*self.kernel_size, num_input_ch, self.num_kernels)\n",
        "        # We initialize the filter values e.g. from a Glorot distribution:\n",
        "        glorot_init = tf.initializers.GlorotUniform()\n",
        "        self.kernels = self.add_weight( # method to add Variables to layer\n",
        "            name='kernels', shape=kernels_shape, initializer=glorot_init,\n",
        "            trainable=True) # and we make it trainable.\n",
        "        # Same for the bias variable (e.g. from a normal distribution):\n",
        "        self.bias = self.add_weight(\n",
        "            name='bias', shape=(self.num_kernels,), \n",
        "            initializer='random_normal', trainable=True)\n",
        "\n",
        "    def call(self, inputs):\n",
        "        \"\"\" Call the layer, apply its operations to the input tensor.\"\"\"\n",
        "        return conv_layer(inputs, self.kernels, self.bias, self.stride)\n",
        "\n",
        "    def get_config(self):\n",
        "        \"\"\"\n",
        "        Helper function to define the layer and its parameters.\n",
        "        :return:        Dictionary containing the layer's configuration\n",
        "        \"\"\"\n",
        "        return {'num_kernels': self.num_kernels,\n",
        "                'kernel_size': self.kernel_size,\n",
        "                'strides': self.strides,\n",
        "                'use_bias': self.use_bias}"
      ],
      "execution_count": 0,
      "outputs": []
    },
    {
      "cell_type": "code",
      "metadata": {
        "id": "28Lc2Gx1nilg",
        "colab_type": "code",
        "colab": {}
      },
      "source": [
        "from functools import partial\n",
        "\n",
        "def l2_reg(coef=1e-2):\n",
        "    \"\"\"\n",
        "    Returns a function computing a weighed L2 norm of a given tensor.\n",
        "    (this is basically a reimplementation of f.keras.regularizers.l2())\n",
        "    :param coef:    Weight for the norm\n",
        "    :return:        Loss function\n",
        "    \"\"\"\n",
        "    return lambda x: tf.reduce_sum(x ** 2) * coef\n",
        "\n",
        "    \n",
        "class ConvWithRegularizers(SimpleConvolutionLayer):\n",
        "    def __init__(self, num_kernels=32, kernel_size=(3, 3), stride=1,\n",
        "                 kernel_regularizer=l2_reg(), bias_regularizer=None):\n",
        "        \"\"\" \n",
        "        Initialize the layer.\n",
        "        :param num_kernels:        Number of kernels for the convolution\n",
        "        :param kernel_size:        Kernel size (H x W)\n",
        "        :param stride:             Vertical/horizontal stride\n",
        "        :param kernel_regularizer: (opt.) Regularization loss for the kernel variable\n",
        "        :param bias_regularizer:   (opt.) Regularization loss for the bias variable\n",
        "        \"\"\"\n",
        "        super().__init__(num_kernels, kernel_size, stride)  \n",
        "        self.kernel_regularizer = kernel_regularizer\n",
        "        self.bias_regularizer = bias_regularizer\n",
        "\n",
        "    def build(self, input_shape):\n",
        "        \"\"\"\n",
        "        Build the layer, initializing its components.\n",
        "        \"\"\"\n",
        "        super().build(input_shape)\n",
        "        # Attaching the regularization losses to the variables.\n",
        "        if self.kernel_regularizer is not None:\n",
        "            self.add_loss(partial(self.kernel_regularizer, self.kernels))\n",
        "        if self.bias_regularizer is not None:\n",
        "            self.add_loss(partial(self.bias_regularizer, self.bias))"
      ],
      "execution_count": 0,
      "outputs": []
    },
    {
      "cell_type": "code",
      "metadata": {
        "id": "AlxV4u2Pnwgx",
        "colab_type": "code",
        "colab": {
          "base_uri": "https://localhost:8080/",
          "height": 54
        },
        "outputId": "9b297248-325c-4be1-ae52-f4b7ef0a8f18"
      },
      "source": [
        "conv = ConvWithRegularizers(num_kernels=32, kernel_size=(3, 3), stride=1,\n",
        "                            kernel_regularizer=l2_reg(1.), bias_regularizer=l2_reg(1.))\n",
        "conv.build(input_shape=tf.TensorShape((None, 28, 28, 1)))\n",
        "\n",
        "# Fetching the layer's losses:\n",
        "reg_losses = conv.losses\n",
        "print('Regularization losses over kernel and bias parameters: {}'.format(\n",
        "    [loss.numpy() for loss in reg_losses]))\n",
        "\n",
        "# Comparing with the L2 norms of its kernel and bias tensors:\n",
        "kernel_norm, bias_norm = tf.reduce_sum(conv.kernels ** 2).numpy(), tf.reduce_sum(conv.bias ** 2).numpy()\n",
        "print(f'L2 norms of kernel and bias parameters: {[kernel_norm, bias_norm]}')"
      ],
      "execution_count": 19,
      "outputs": [
        {
          "output_type": "stream",
          "text": [
            "Regularization losses over kernel and bias parameters: [1.9315437, 0.09195678]\n",
            "L2 norms of kernel and bias parameters: [1.9315437, 0.09195678]\n"
          ],
          "name": "stdout"
        }
      ]
    },
    {
      "cell_type": "code",
      "metadata": {
        "id": "pJWdc0N8oGNj",
        "colab_type": "code",
        "colab": {
          "base_uri": "https://localhost:8080/",
          "height": 54
        },
        "outputId": "5cec2f4f-2be5-4f76-a745-73ac97a5b821"
      },
      "source": [
        "model = Sequential([\n",
        "    Input(shape=input_shape),\n",
        "    ConvWithRegularizers(kernel_regularizer=l2_reg(1.), bias_regularizer=l2_reg(1.)),\n",
        "    ConvWithRegularizers(kernel_regularizer=l2_reg(1.), bias_regularizer=l2_reg(1.)),\n",
        "    ConvWithRegularizers(kernel_regularizer=l2_reg(1.), bias_regularizer=l2_reg(1.))  \n",
        "])\n",
        "\n",
        "print(f'Losses attached to the model and its layers:\\n\\r{[loss.numpy() for loss in model.losses]} ({len(model.losses)} losses)')"
      ],
      "execution_count": 21,
      "outputs": [
        {
          "output_type": "stream",
          "text": [
            "Losses attached to the model and its layers:\n",
            "\r[1.8989518, 0.06888567, 32.267693, 0.08637072, 32.053787, 0.06604845] (6 losses)\n"
          ],
          "name": "stdout"
        }
      ]
    },
    {
      "cell_type": "code",
      "metadata": {
        "id": "KraDENBAoM0Z",
        "colab_type": "code",
        "colab": {}
      },
      "source": [
        "class LeNet5(Model): # `Model` has the same API as `Layer` + extends it\n",
        "    \n",
        "    def __init__(self, num_classes,\n",
        "                 kernel_regularizer=l2_reg(), bias_regularizer=l2_reg()):\n",
        "        # Create the model and its layers:\n",
        "        super(LeNet5, self).__init__()\n",
        "        self.conv1 = ConvWithRegularizers(\n",
        "            6, kernel_size=(5, 5), \n",
        "            kernel_regularizer=kernel_regularizer, bias_regularizer=bias_regularizer)\n",
        "        self.conv2 = ConvWithRegularizers(\n",
        "            16, kernel_size=(5, 5),\n",
        "            kernel_regularizer=kernel_regularizer, bias_regularizer=bias_regularizer)\n",
        "        self.max_pool = MaxPooling2D(pool_size=(2, 2))\n",
        "        self.flatten = Flatten()\n",
        "        self.dense1 = Dense(120, activation='relu')\n",
        "        self.dense2 = Dense(84, activation='relu')\n",
        "        self.dense3 = Dense(num_classes, activation='softmax')\n",
        "        \n",
        "    def call(self, x): # Apply the layers in order to process the inputs\n",
        "        x = self.max_pool(self.conv1(x)) # 1st block\n",
        "        x = self.max_pool(self.conv2(x)) # 2nd block\n",
        "        x = self.flatten(x)\n",
        "        x = self.dense3(self.dense2(self.dense1(x))) # dense layers\n",
        "        return x"
      ],
      "execution_count": 0,
      "outputs": []
    },
    {
      "cell_type": "code",
      "metadata": {
        "id": "9jNtdtXToeLv",
        "colab_type": "code",
        "colab": {
          "base_uri": "https://localhost:8080/",
          "height": 580
        },
        "outputId": "732ec2b0-60de-4f95-8474-3b0b3b20d0b6"
      },
      "source": [
        "optimizer  = tf.optimizers.SGD()\n",
        "dataset    = tf.data.Dataset.from_tensor_slices((x_train, y_train)).batch(batch_size)\n",
        "log_string_template = 'Epoch {0:3}/{1}: main loss = {5}{2:5.3f}{6}; ' + \\\n",
        "                      'reg loss = {5}{3:5.3f}{6}; val acc = {5}{4:5.3f}%{6}'\n",
        "\n",
        "def train_classifier_on_mnist(model, log_frequency=10):\n",
        "\n",
        "    avg_main_loss = tf.keras.metrics.Mean(name='avg_main_loss', dtype=tf.float32)\n",
        "    avg_reg_loss  = tf.keras.metrics.Mean(name='avg_reg_loss', dtype=tf.float32)\n",
        "\n",
        "    print(f\"Training: {log_begin_red}start{log_end_format}\")\n",
        "    for epoch in range(epochs):\n",
        "        for (batch_images, batch_gts) in dataset:    # For each batch of this epoch\n",
        "\n",
        "            with tf.GradientTape() as grad_tape:     # Tell TF to tape the gradients\n",
        "                y = model(batch_images)              # Feed forward\n",
        "                main_loss = tf.losses.sparse_categorical_crossentropy(\n",
        "                    batch_gts, y)                    # Compute loss\n",
        "                reg_loss = sum(model.losses)         # List and add other losses\n",
        "                loss = main_loss + reg_loss\n",
        "\n",
        "            # Get the gradients of combined losses and back-propagate:\n",
        "            grads = grad_tape.gradient(loss, model.trainable_variables)\n",
        "            optimizer.apply_gradients(zip(grads, model.trainable_variables))\n",
        "\n",
        "            # Keep track of losses for display:\n",
        "            avg_main_loss.update_state(main_loss)\n",
        "            avg_reg_loss.update_state(reg_loss)\n",
        "\n",
        "        if epoch % log_frequency == 0 or epoch == (epochs - 1): # Log some metrics\n",
        "            # Validate, computing the accuracy on test data:\n",
        "            acc = tf.reduce_mean(tf.metrics.sparse_categorical_accuracy(\n",
        "                tf.constant(y_test), model(x_test))).numpy() * 100\n",
        "\n",
        "            main_loss = avg_main_loss.result()\n",
        "            reg_loss = avg_reg_loss.result()\n",
        "\n",
        "            print(log_string_template.format(\n",
        "                epoch, epochs, main_loss, reg_loss, acc, log_begin_blue, log_end_format))\n",
        "\n",
        "        avg_main_loss.reset_states()\n",
        "        avg_reg_loss.reset_states()\n",
        "    print(f\"Training: {log_begin_green}end{log_end_format}\")\n",
        "    return model\n",
        "    \n",
        "\n",
        "model = LeNet5(10, kernel_regularizer=l2_reg(), bias_regularizer=l2_reg())\n",
        "model = train_classifier_on_mnist(model, log_frequency=10)"
      ],
      "execution_count": 25,
      "outputs": [
        {
          "output_type": "stream",
          "text": [
            "Training: \u001b[91mstart\u001b[0m\n",
            "WARNING:tensorflow:Layer le_net5_2 is casting an input tensor from dtype float64 to the layer's dtype of float32, which is new behavior in TensorFlow 2.  The layer has dtype float32 because it's dtype defaults to floatx.\n",
            "\n",
            "If you intended to run this layer in float32, you can safely ignore this warning. If in doubt, this warning is likely only an issue if you are porting a TensorFlow 1.X model to TensorFlow 2.\n",
            "\n",
            "To change all layers to have dtype float64 by default, call `tf.keras.backend.set_floatx('float64')`. To change just this layer, pass dtype='float64' to the layer constructor. If you are the author of this layer, you can disable autocasting by passing autocast=False to the base Layer constructor.\n",
            "\n",
            "Epoch   0/200: main loss = \u001b[94m2.276\u001b[0m; reg loss = \u001b[94m0.103\u001b[0m; val acc = \u001b[94m15.460%\u001b[0m\n",
            "Epoch  10/200: main loss = \u001b[94m1.124\u001b[0m; reg loss = \u001b[94m0.194\u001b[0m; val acc = \u001b[94m58.690%\u001b[0m\n",
            "Epoch  20/200: main loss = \u001b[94m0.136\u001b[0m; reg loss = \u001b[94m0.160\u001b[0m; val acc = \u001b[94m76.170%\u001b[0m\n",
            "Epoch  30/200: main loss = \u001b[94m0.008\u001b[0m; reg loss = \u001b[94m0.094\u001b[0m; val acc = \u001b[94m79.350%\u001b[0m\n",
            "Epoch  40/200: main loss = \u001b[94m0.008\u001b[0m; reg loss = \u001b[94m0.062\u001b[0m; val acc = \u001b[94m79.300%\u001b[0m\n",
            "Epoch  50/200: main loss = \u001b[94m0.008\u001b[0m; reg loss = \u001b[94m0.048\u001b[0m; val acc = \u001b[94m79.220%\u001b[0m\n",
            "Epoch  60/200: main loss = \u001b[94m0.007\u001b[0m; reg loss = \u001b[94m0.040\u001b[0m; val acc = \u001b[94m79.160%\u001b[0m\n",
            "Epoch  70/200: main loss = \u001b[94m0.006\u001b[0m; reg loss = \u001b[94m0.035\u001b[0m; val acc = \u001b[94m79.090%\u001b[0m\n",
            "Epoch  80/200: main loss = \u001b[94m0.006\u001b[0m; reg loss = \u001b[94m0.031\u001b[0m; val acc = \u001b[94m78.790%\u001b[0m\n",
            "Epoch  90/200: main loss = \u001b[94m0.005\u001b[0m; reg loss = \u001b[94m0.029\u001b[0m; val acc = \u001b[94m78.780%\u001b[0m\n",
            "Epoch 100/200: main loss = \u001b[94m0.005\u001b[0m; reg loss = \u001b[94m0.027\u001b[0m; val acc = \u001b[94m78.850%\u001b[0m\n",
            "Epoch 110/200: main loss = \u001b[94m0.005\u001b[0m; reg loss = \u001b[94m0.025\u001b[0m; val acc = \u001b[94m78.650%\u001b[0m\n",
            "Epoch 120/200: main loss = \u001b[94m0.004\u001b[0m; reg loss = \u001b[94m0.024\u001b[0m; val acc = \u001b[94m78.640%\u001b[0m\n",
            "Epoch 130/200: main loss = \u001b[94m0.004\u001b[0m; reg loss = \u001b[94m0.023\u001b[0m; val acc = \u001b[94m78.790%\u001b[0m\n",
            "Epoch 140/200: main loss = \u001b[94m0.004\u001b[0m; reg loss = \u001b[94m0.022\u001b[0m; val acc = \u001b[94m78.600%\u001b[0m\n",
            "Epoch 150/200: main loss = \u001b[94m0.004\u001b[0m; reg loss = \u001b[94m0.021\u001b[0m; val acc = \u001b[94m78.120%\u001b[0m\n",
            "Epoch 160/200: main loss = \u001b[94m0.004\u001b[0m; reg loss = \u001b[94m0.020\u001b[0m; val acc = \u001b[94m78.380%\u001b[0m\n",
            "Epoch 170/200: main loss = \u001b[94m0.003\u001b[0m; reg loss = \u001b[94m0.019\u001b[0m; val acc = \u001b[94m78.260%\u001b[0m\n",
            "Epoch 180/200: main loss = \u001b[94m0.003\u001b[0m; reg loss = \u001b[94m0.019\u001b[0m; val acc = \u001b[94m78.470%\u001b[0m\n",
            "Epoch 190/200: main loss = \u001b[94m0.003\u001b[0m; reg loss = \u001b[94m0.018\u001b[0m; val acc = \u001b[94m78.420%\u001b[0m\n",
            "Epoch 199/200: main loss = \u001b[94m0.003\u001b[0m; reg loss = \u001b[94m0.018\u001b[0m; val acc = \u001b[94m78.570%\u001b[0m\n",
            "Training: \u001b[92mend\u001b[0m\n"
          ],
          "name": "stdout"
        }
      ]
    },
    {
      "cell_type": "code",
      "metadata": {
        "id": "d8ra9AF3oin9",
        "colab_type": "code",
        "colab": {
          "base_uri": "https://localhost:8080/",
          "height": 281
        },
        "outputId": "bc243c7b-4fb9-4bb3-b310-7dc06586d4e8"
      },
      "source": [
        "model = LeNet5(10, kernel_regularizer=None, bias_regularizer=None)\n",
        "model = train_classifier_on_mnist(model, log_frequency=50)"
      ],
      "execution_count": 26,
      "outputs": [
        {
          "output_type": "stream",
          "text": [
            "Training: \u001b[91mstart\u001b[0m\n",
            "WARNING:tensorflow:Layer le_net5_3 is casting an input tensor from dtype float64 to the layer's dtype of float32, which is new behavior in TensorFlow 2.  The layer has dtype float32 because it's dtype defaults to floatx.\n",
            "\n",
            "If you intended to run this layer in float32, you can safely ignore this warning. If in doubt, this warning is likely only an issue if you are porting a TensorFlow 1.X model to TensorFlow 2.\n",
            "\n",
            "To change all layers to have dtype float64 by default, call `tf.keras.backend.set_floatx('float64')`. To change just this layer, pass dtype='float64' to the layer constructor. If you are the author of this layer, you can disable autocasting by passing autocast=False to the base Layer constructor.\n",
            "\n",
            "Epoch   0/200: main loss = \u001b[94m2.267\u001b[0m; reg loss = \u001b[94m0.000\u001b[0m; val acc = \u001b[94m15.360%\u001b[0m\n",
            "Epoch  50/200: main loss = \u001b[94m0.001\u001b[0m; reg loss = \u001b[94m0.000\u001b[0m; val acc = \u001b[94m79.800%\u001b[0m\n",
            "Epoch 100/200: main loss = \u001b[94m0.000\u001b[0m; reg loss = \u001b[94m0.000\u001b[0m; val acc = \u001b[94m79.790%\u001b[0m\n",
            "Epoch 150/200: main loss = \u001b[94m0.000\u001b[0m; reg loss = \u001b[94m0.000\u001b[0m; val acc = \u001b[94m79.780%\u001b[0m\n",
            "Epoch 199/200: main loss = \u001b[94m0.000\u001b[0m; reg loss = \u001b[94m0.000\u001b[0m; val acc = \u001b[94m79.790%\u001b[0m\n",
            "Training: \u001b[92mend\u001b[0m\n"
          ],
          "name": "stdout"
        }
      ]
    },
    {
      "cell_type": "code",
      "metadata": {
        "id": "4lwt4dO6py3j",
        "colab_type": "code",
        "colab": {}
      },
      "source": [
        "def lenet(name='lenet', input_shape=input_shape,\n",
        "          use_dropout=False, use_batchnorm=False, regularizer=None):\n",
        "    \"\"\"\n",
        "    Create a LeNet-5 Keras model, with optional regularization schemes.\n",
        "    :param name:           Name for the model\n",
        "    :param input_shape:    Model's input shape\n",
        "    :param use_dropout:    Flag to add Dropout layers after key layers\n",
        "    :param use_batchnorm:  Flag to add BatchNormalization layers after key layers\n",
        "    :param regularizer:    Regularization function to be applied to layers' kernels\n",
        "    :return:               LeNet-5 Keras model\n",
        "    \"\"\"\n",
        "    \n",
        "    layers = []\n",
        "    \n",
        "    # 1st block:\n",
        "    layers += [Conv2D(6, kernel_size=(5, 5), padding='same', \n",
        "                      input_shape=input_shape, kernel_regularizer=regularizer)]\n",
        "    if use_batchnorm:\n",
        "        layers += [BatchNormalization()]\n",
        "    layers += [Activation('relu'),\n",
        "               MaxPooling2D(pool_size=(2, 2))]\n",
        "    if use_dropout:\n",
        "        layers += [Dropout(0.25)]\n",
        "        \n",
        "    # 2nd block:\n",
        "    layers += [ \n",
        "        Conv2D(16, kernel_size=(5, 5), kernel_regularizer=regularizer)]\n",
        "    if use_batchnorm:\n",
        "        layers += [BatchNormalization()]\n",
        "    layers += [Activation('relu'),\n",
        "               MaxPooling2D(pool_size=(2, 2))]\n",
        "    if use_dropout:\n",
        "        layers += [Dropout(0.25)]\n",
        " \n",
        "    # Dense layers:\n",
        "    layers += [Flatten()]\n",
        "    \n",
        "    layers += [Dense(120, kernel_regularizer=regularizer)]\n",
        "    if use_batchnorm:\n",
        "        layers += [BatchNormalization()]\n",
        "    layers += [Activation('relu')]\n",
        "    if use_dropout:\n",
        "        layers += [Dropout(0.25)]\n",
        "        \n",
        "    layers += [Dense(84, kernel_regularizer=regularizer)]\n",
        "    layers += [Activation('relu')]\n",
        "        \n",
        "    layers += [Dense(num_classes, activation='softmax')]\n",
        "    \n",
        "    model = Sequential(layers, name=name)\n",
        "    return model"
      ],
      "execution_count": 0,
      "outputs": []
    },
    {
      "cell_type": "code",
      "metadata": {
        "id": "DnkRtswCp_2F",
        "colab_type": "code",
        "colab": {}
      },
      "source": [
        "configurations = {\n",
        "    'none':         {'use_dropout': False, 'use_batchnorm': False, 'regularizer': None},\n",
        "    'l1':           {'use_dropout': False, 'use_batchnorm': False, 'regularizer': tf.keras.regularizers.l1(0.01)},\n",
        "    'l2':           {'use_dropout': False, 'use_batchnorm': False, 'regularizer': tf.keras.regularizers.l2(0.01)},\n",
        "    'dropout':      {'use_dropout': True,  'use_batchnorm': False, 'regularizer': None},\n",
        "    'bn':           {'use_dropout': False, 'use_batchnorm': True,  'regularizer': None},\n",
        "    'l1+dropout':   {'use_dropout': False, 'use_batchnorm': True,  'regularizer': tf.keras.regularizers.l1(0.01)},\n",
        "    'l1+bn':        {'use_dropout': False, 'use_batchnorm': True,  'regularizer': tf.keras.regularizers.l1(0.01)},\n",
        "    'l1+dropout+bn':{'use_dropout': False, 'use_batchnorm': True,  'regularizer': tf.keras.regularizers.l1(0.01)}\n",
        "    # ...\n",
        "}"
      ],
      "execution_count": 0,
      "outputs": []
    },
    {
      "cell_type": "code",
      "metadata": {
        "id": "3t9Ua42iqGjf",
        "colab_type": "code",
        "colab": {}
      },
      "source": [
        "history_per_instance = dict()\n",
        "\n",
        "print(f\"Experiment: {log_begin_red}start{log_end_format} (training logs = off)\")\n",
        "for config_name in configurations:\n",
        "    # Resetting the seeds (for random number generation), to reduce the impact of randomness on the comparison:\n",
        "    tf.random.set_seed(random_seed)\n",
        "    np.random.seed(random_seed)\n",
        "    # Creating the model:\n",
        "    model = lenet(f\"lenet_{config_name}\", **configurations[config_name])\n",
        "    model.compile(optimizer='sgd', loss='sparse_categorical_crossentropy', metrics=['accuracy'])\n",
        "    # Launching the training (we set `verbose=0`, so the training won't generate any logs):\n",
        "    print(f\"\\t> Training with {config_name}: {log_begin_red}start{log_end_format}\")\n",
        "    history = model.fit(x_train, y_train,\n",
        "                        batch_size=32, epochs=300, validation_data=(x_test, y_test),\n",
        "                        verbose=0)\n",
        "    history_per_instance[config_name] = history\n",
        "    print(f'\\t> Training with {config_name}: {log_begin_green}done{log_end_format}.')\n",
        "print(f\"Experiment: {log_begin_green}done{log_end_format}\")"
      ],
      "execution_count": 0,
      "outputs": []
    },
    {
      "cell_type": "code",
      "metadata": {
        "id": "GT5dhRTFrCo0",
        "colab_type": "code",
        "colab": {
          "base_uri": "https://localhost:8080/",
          "height": 607
        },
        "outputId": "0c43b49d-c113-4628-a7c8-89b266f98aa8"
      },
      "source": [
        "# add parameter `sharey='row'` for a more direct comparison\n",
        "fig, ax = plt.subplots(2, 2, figsize=(10,10), sharex='col')\n",
        "ax[0, 0].set_title(\"loss\")\n",
        "ax[0, 1].set_title(\"val-loss\")\n",
        "ax[1, 0].set_title(\"accuracy\")\n",
        "ax[1, 1].set_title(\"val-accuracy\")\n",
        "\n",
        "lines, labels = [], []\n",
        "for config_name in history_per_instance:\n",
        "    history = history_per_instance[config_name]\n",
        "    ax[0, 0].plot(history.history['loss'])\n",
        "    ax[0, 1].plot(history.history['val_loss'])\n",
        "    ax[1, 0].plot(history.history['accuracy'])\n",
        "    line = ax[1, 1].plot(history.history['val_accuracy'])\n",
        "    lines.append(line[0])\n",
        "    labels.append(config_name)\n",
        "\n",
        "fig.legend(lines,labels, loc='center right', borderaxespad=0.1)\n",
        "plt.subplots_adjust(right=0.84)"
      ],
      "execution_count": 30,
      "outputs": [
        {
          "output_type": "display_data",
          "data": {
            "image/png": "[encoded data removed]",
            "text/plain": [
              "<Figure size 720x720 with 4 Axes>"
            ]
          },
          "metadata": {
            "tags": [],
            "needs_background": "light"
          }
        }
      ]
    },
    {
      "cell_type": "code",
      "metadata": {
        "id": "eH2UYsqXrHXW",
        "colab_type": "code",
        "colab": {
          "base_uri": "https://localhost:8080/",
          "height": 111
        },
        "outputId": "8a8a8777-7322-400b-a5a9-25a9d0c0b67f"
      },
      "source": [
        "for config_name in history_per_instance:\n",
        "    best_val_acc = max(history_per_instance[config_name].history['val_accuracy']) * 100\n",
        "    print(f'Max val-accuracy for model \"{config_name}\": {best_val_acc:.2f}%')"
      ],
      "execution_count": 31,
      "outputs": [
        {
          "output_type": "stream",
          "text": [
            "Max val-accuracy for model \"none\": 79.07%\n",
            "Max val-accuracy for model \"l1\": 77.41%\n",
            "Max val-accuracy for model \"l2\": 80.09%\n",
            "Max val-accuracy for model \"dropout\": 85.25%\n",
            "Max val-accuracy for model \"bn\": 83.85%\n"
          ],
          "name": "stdout"
        }
      ]
    },
    {
      "cell_type": "code",
      "metadata": {
        "id": "_SeqN8k2x35m",
        "colab_type": "code",
        "colab": {}
      },
      "source": [
        ""
      ],
      "execution_count": 0,
      "outputs": []
    }
  ]
}