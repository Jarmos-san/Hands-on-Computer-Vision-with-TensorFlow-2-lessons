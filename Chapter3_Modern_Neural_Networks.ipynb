{
  "nbformat": 4,
  "nbformat_minor": 0,
  "metadata": {
    "colab": {
      "name": "Chapter3_Modern_Neural_Networks.ipynb",
      "provenance": [],
      "authorship_tag": "ABX9TyMwPiwKh0trWnFCMtgWhogs"
    },
    "kernelspec": {
      "name": "python3",
      "display_name": "Python 3"
    }
  },
  "cells": [
    {
      "cell_type": "markdown",
      "metadata": {
        "id": "Ik99G4eFyUkq",
        "colab_type": "text"
      },
      "source": [
        "# **Basic Operations of Convolutional Neural Networks (CNNs/ConvNets)**:\n",
        "\n",
        "Although quite similar to each other, ConvNets are different architecturally. ConvNets specifically assume that they're receiving an image as an input with 3D volume of neurons. In other words, the input layer accepts a vector of `Width`, `Height` & `Depth` units of the image.\n",
        "\n",
        "The ConvNet contains a sequence of layers & each layer transforms a volume of activations through a differentiable function. Generally, a model architecture would've the following layers sequencially laid beside one-another:\n",
        "\n",
        "1. `INPUT[W x H x D]` layer which holds the raw pixels values of an image with image _width of `W`_, _height of `H`_ & _3 colour channels of `R,G,B`_.\n",
        "\n",
        "2. The `CONV` layer computes the output of the neurons that are connected to certain local regions of the input which results in a volume of `[W x H x F]` where `F` is the number of filters.\n",
        "\n",
        "3. The `RELU` layer while leaving the size of the volume unchanged activates certain areas of the input, elementwise.\n",
        "\n",
        "4. The `POOL` layer performs a downsampling of the input.\n",
        "\n",
        "5. The `FC` layer computes the class layers with the volume size represented as `[W x H x C]` where C represents the classes.\n",
        "\n",
        "**_Resources_**:\n",
        "\n",
        "1. Perhaps the most comprehensive & informative piece is the official [CS231n Convolutional Neural Network for Visual Recognition](https://cs231n.github.io/convolutional-networks/#overview) course website from Stanford. Highly recommend & almost answers everything about the topic.\n",
        "\n",
        "2. [A Gentle Introduction to Pooling Layers for Convolutional Neural Networks](https://machinelearningmastery.com/pooling-layers-for-convolutional-neural-networks/)\n",
        "\n",
        "3. [Intuitively Understanding Convolutions for Deep Learning](https://towardsdatascience.com/intuitively-understanding-convolutions-for-deep-learning-1f6f42faee1) visually appealing & brief enough to grasp the concepts quickly.\n",
        "\n",
        "4. Analogical example of the article - [Understanding Convolutions](https://colah.github.io/posts/2014-07-Understanding-Convolutions/) has good visual descriptions alongwith examples."
      ]
    }
  ]
}