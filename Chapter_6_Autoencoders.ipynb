{
  "nbformat": 4,
  "nbformat_minor": 0,
  "metadata": {
    "colab": {
      "name": "Chapter-6_Autoencoders.ipynb",
      "provenance": [],
      "authorship_tag": "ABX9TyPqtqYymsmlS1trl1BnTH06"
    },
    "kernelspec": {
      "name": "python3",
      "display_name": "Python 3"
    }
  },
  "cells": [
    {
      "cell_type": "markdown",
      "metadata": {
        "id": "6obm49Cciuuh",
        "colab_type": "text"
      },
      "source": [
        "[Hands-On Computer Vision with TensorFlow 2 -- Chapter 6: AutoEncoders](https://github.com/PacktPublishing/Hands-On-Computer-Vision-with-TensorFlow-2/tree/master/Chapter06)"
      ]
    },
    {
      "cell_type": "code",
      "metadata": {
        "id": "XX236S-hiflk",
        "colab_type": "code",
        "colab": {}
      },
      "source": [
        ""
      ],
      "execution_count": 0,
      "outputs": []
    }
  ]
}